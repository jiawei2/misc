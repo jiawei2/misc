{
 "metadata": {
  "name": "",
  "signature": "sha256:1edcba71968f81b715a8a4edddff4ff4150f72074282e6d0dd20881b1091d8af"
 },
 "nbformat": 3,
 "nbformat_minor": 0,
 "worksheets": [
  {
   "cells": [
    {
     "cell_type": "code",
     "collapsed": false,
     "input": [
      "import requests\n",
      "from collections import deque\n",
      "class SolrTermVectorCollector(object):\n",
      "    def __pathToTvrh(self, solrUrl, collection):\n",
      "        import urlparse\n",
      "        userSpecifiedUrl = urlparse.urlsplit(solrUrl)\n",
      "        schemeAndNetloc = urlparse.SplitResult(scheme=userSpecifiedUrl.scheme,\n",
      "                                               netloc=userSpecifiedUrl.netloc,\n",
      "                                               path='',\n",
      "                                               query='',\n",
      "                                               fragment='')\n",
      "        solrBaseUrl = urlparse.urlunsplit(schemeAndNetloc)\n",
      "        solrBaseUrl = urlparse.urljoin(solrBaseUrl, 'solr/')\n",
      "        solrBaseUrl = urlparse.urljoin(solrBaseUrl, collection + '/')\n",
      "        solrBaseUrl = urlparse.urljoin(solrBaseUrl, 'tvrh')\n",
      "        return solrBaseUrl\n",
      "    \n",
      "    def __init__(self, solrUrl=\"http://localhost:8983/solr\",\n",
      "            collection=\"collection1\",\n",
      "            field='Title',\n",
      "            feature='tf-idf',\n",
      "            batchSize=10000,\n",
      "            numDocs=999999999):\n",
      "        self.solrTvrhUrl = self.__pathToTvrh(solrUrl, collection)\n",
      "        self.field = field\n",
      "        self.feature = feature\n",
      "        self.batchSize = batchSize\n",
      "        self.numDocs = numDocs\n",
      "        self.sess = requests.Session()\n",
      "        self.count = 0\n",
      "\n",
      "        self.termVectors = []\n",
      "\n",
      "    def __iter__(self):\n",
      "        return self\n",
      "\n",
      "    def next(self):\n",
      "        if self.count >= self.numDocs:\n",
      "            raise StopIteration\n",
      "        if len(self.termVectors) == 0:\n",
      "            #then get some more!\n",
      "            params = {\"tv.fl\": self.field,\n",
      "                      \"fl\": \"nonexistentfield\",#to limit the volumn of data returned\n",
      "                      \"wt\": \"json\",\n",
      "                      \"tv.all\": \"true\",\n",
      "                      \"rows\": min(self.batchSize, self.numDocs-self.count),\n",
      "                      \"start\": self.count,\n",
      "                      \"q\": self.field + \":*\"}\n",
      "            resp = self.sess.get(url=self.solrTvrhUrl, params=params)\n",
      "            if resp.status_code != 200:\n",
      "                raise IOError(\"HTTP Status \" + str(resp.status_code))\n",
      "            self.termVectors = deque(resp.json()['termVectors'][3::2])#overcoming weird non-dictionary json format\n",
      "\n",
      "        if len(self.termVectors) == 0:\n",
      "            #then Solr's our of documents\n",
      "            raise StopIteration\n",
      "        tv = self.termVectors.popleft()\n",
      "        id = tv[1]\n",
      "        termVector = {}\n",
      "        data = tv[3] #all of the terms and features in this vector\n",
      "        for i in xrange(0,len(data),2):\n",
      "            term = data[i]\n",
      "            featureValue = [data[i+1][j+1] for j in range(len(data[i+1])) if data[i+1][j] == self.feature][0]\n",
      "            termVector[term] = featureValue\n",
      "        self.count += 1\n",
      "        return (id, termVector)\n"
     ],
     "language": "python",
     "metadata": {},
     "outputs": [],
     "prompt_number": 1
    },
    {
     "cell_type": "code",
     "collapsed": false,
     "input": [
      "from collections import defaultdict\n",
      "class StringIndexDict(object):\n",
      "    \"\"\"\n",
      "    A 2-way dict-like object that only has functionality for getting and item.\n",
      "    If you get with a string key, it will return the integer associated with that key.\n",
      "    If you get with a integer key, it will return the string associated with that key.\n",
      "    If you get an item that's currently not there, then the dict will return the next available\n",
      "    integer (unique) and return that. If you call freeze on the dict, then nothing more\n",
      "    can be added to it.\n",
      "    \"\"\"\n",
      "    def __init__(self):\n",
      "        self.currentIndex = -1\n",
      "        self.stringDict = defaultdict(self._increment)\n",
      "        self.indexDict = {}\n",
      "\n",
      "    def _increment(self):\n",
      "        self.currentIndex += 1\n",
      "        self.indexDict[self.currentIndex] = self.keyInQuestion #kinda funky, but since this will always be single threaded, it's ok\n",
      "        return self.currentIndex\n",
      "\n",
      "    def __getitem__(self,key):\n",
      "        self.keyInQuestion = key\n",
      "        if isinstance(key,basestring):\n",
      "            return self.stringDict[key]\n",
      "        else :\n",
      "            return self.indexDict[key]\n",
      "\n",
      "    def size(self):\n",
      "        return self.currentIndex + 1\n",
      "\n",
      "    def freeze(self):\n",
      "        #allow no more changes\n",
      "        self.stringDict.default_factory = None"
     ],
     "language": "python",
     "metadata": {},
     "outputs": [],
     "prompt_number": 2
    },
    {
     "cell_type": "code",
     "collapsed": false,
     "input": [
      "import scipy.sparse\n",
      "import numpy\n",
      "import sparsesvd\n",
      "class TermDocCollection(object):\n",
      "    def __init__(self,source=None,numTopics=10):\n",
      "        self._docDict = StringIndexDict()\n",
      "        self._termDict = StringIndexDict()\n",
      "        self._termVectors = []\n",
      "        self.numTopics = numTopics\n",
      "        for termVector in source:\n",
      "            self._termVectors.append( #append tuple of (docNum, {termNum_i,numberOccurrences_i})\n",
      "                (\n",
      "                    self._docDict[termVector[0]],\n",
      "                    {self._termDict[k]:v for k,v in termVector[1].iteritems()}\n",
      "                )\n",
      "            )\n",
      "        self._termDict.freeze()\n",
      "        self._docDict.freeze()\n",
      "        self.numTerms = self._termDict.size()\n",
      "        self.numDocs = self._docDict.size()\n",
      "\n",
      "        #memoized later:\n",
      "        self._svd = None\n",
      "        self._cscMatrix = None\n",
      "        self._uPrime = None\n",
      "        self._uStripped = None\n",
      "\n",
      "\n",
      "    def _getCscMatrix(self):#compressed sparse column matrix\n",
      "        if self._cscMatrix is not None:\n",
      "            return self._cscMatrix\n",
      "        num_nnz, data, indices, indptr = 0, [], [], [0]\n",
      "        for termVector in self._termVectors:\n",
      "            newIndices = [i for i in termVector[1].keys()]\n",
      "            newValues = [v for v in termVector[1].values()]\n",
      "            indices.extend(newIndices)\n",
      "            data.extend(newValues)\n",
      "            num_nnz += len(newValues)\n",
      "            indptr.append(num_nnz)\n",
      "        data = numpy.asarray(data)\n",
      "        indices = numpy.asarray(indices)\n",
      "        self._cscMatrix = scipy.sparse.csc_matrix((data, indices, indptr),\n",
      "                shape=(self.numTerms, self.numDocs))\n",
      "        return self._cscMatrix\n",
      "\n",
      "    def _getSvd(self):\n",
      "        if self._svd is not None:\n",
      "            return self._svd\n",
      "        self._svd = sparsesvd.sparsesvd(self._getCscMatrix(), self.numTopics)\n",
      "        return self._svd\n",
      "\n",
      "    def _getUprime(self):\n",
      "        if self._uPrime is not None:\n",
      "            return self._uPrime\n",
      "        u,s,v = self._getSvd()\n",
      "        self._uPrime = numpy.dot(u.T,numpy.diag(s))\n",
      "        return self._uPrime\n",
      "\n",
      "    def getBlurredTerms(self,doc,cutoff):\n",
      "        if isinstance(doc,str):\n",
      "            doc = self._docDict[doc]\n",
      "        uPrime = self._getUprime()\n",
      "        _,_,v = self._getSvd()\n",
      "        blurredField = numpy.dot(uPrime,v[:,doc])\n",
      "        tokenIds = numpy.where(blurredField>cutoff)[0]\n",
      "        tokens = [self._termDict[id] for id in tokenIds]\n",
      "        return (self._docDict[doc], tokens)\n",
      "\n",
      "    def _getStrippedUprime(self):\n",
      "        #returns uPrime except that each word is only associated with their maximum \n",
      "        #score in any topic (all other values are set to 0). This might give better \n",
      "        #results for topic word lists\n",
      "        if self._uStripped is not None:\n",
      "            return self._uStripped\n",
      "        uPrime = self._getUprime()\n",
      "        uStripped = numpy.zeros(uPrime.shape)\n",
      "        for termIndex in xrange(uPrime.shape[0]):\n",
      "            maxIndex = numpy.argmax(uPrime[termIndex])\n",
      "            uStripped[termIndex,maxIndex] = uPrime[termIndex,maxIndex]\n",
      "        self._uStripped = uStripped\n",
      "        return uStripped\n",
      "\n",
      "    def getTopic(self,topicNum,cutoff,stripped=True):\n",
      "        if stripped:\n",
      "            u = self._getStrippedUprime()\n",
      "        else:\n",
      "            u = self._getUprime()\n",
      "\n",
      "        return  [self._termDict[i] \n",
      "                    for i in numpy.where(u.T[topicNum]>cutoff)[0]\n",
      "                ]\n",
      "        \n",
      "    def getRelatedTerms(self,token,numTerms,tokens_only=True):\n",
      "        uP = self._getUprime()\n",
      "        termDict = self._termDict\n",
      "        u,_,_ = self._getSvd()\n",
      "        strength_and_indices = sorted( zip(numpy.dot(uP[termDict[token]],u),range(len(uP))) , reverse=True )\n",
      "        method = 0\n",
      "        if tokens_only:\n",
      "            method = lambda i: termDict[i[1]]\n",
      "        else:\n",
      "            method = lambda i: (termDict[i[1]],i[0])\n",
      "        return  [ method(i) for i in strength_and_indices[:numTerms] ]\n"
     ],
     "language": "python",
     "metadata": {},
     "outputs": [],
     "prompt_number": 3
    },
    {
     "cell_type": "code",
     "collapsed": false,
     "input": [
      "class SolrBlurredTermUpdater(object):\n",
      "    def __pathToUpdate(self, solrUrl, collection):\n",
      "        #TODO there is plenty of stuff duplicated in __pathToTvrh above - DRY\n",
      "        import urlparse\n",
      "        userSpecifiedUrl = urlparse.urlsplit(solrUrl)\n",
      "        schemeAndNetloc = urlparse.SplitResult(scheme=userSpecifiedUrl.scheme,\n",
      "                                               netloc=userSpecifiedUrl.netloc,\n",
      "                                               path='',\n",
      "                                               query='',\n",
      "                                               fragment='')\n",
      "        solrBaseUrl = urlparse.urlunsplit(schemeAndNetloc)\n",
      "        solrBaseUrl = urlparse.urljoin(solrBaseUrl, 'solr/')\n",
      "        solrBaseUrl = urlparse.urljoin(solrBaseUrl, collection + '/')\n",
      "        solrBaseUrl = urlparse.urljoin(solrBaseUrl, 'update')\n",
      "        return solrBaseUrl\n",
      "\n",
      "    def __init__(self,\n",
      "            termDocCollector,\n",
      "            blurredField,\n",
      "            solrUrl=\"http://localhost:8983/solr\",\n",
      "            collection=\"collection1\",\n",
      "            idField='Id',\n",
      "            batchSize=1000):\n",
      "        self.termDocCollector = termDocCollector\n",
      "        self.solrUpdateUrl = self.__pathToUpdate(solrUrl, collection)\n",
      "        self.batchSize = batchSize\n",
      "        self.sess = requests.Session()\n",
      "        self.batchSize = batchSize\n",
      "        self.numDocs = termDocCollector.numDocs\n",
      "        self.docString = u\"\"\"\n",
      "            <doc>\n",
      "                <field name=\"{0}\">{1}</field>\n",
      "                <field name=\"{2}\" update=\"set\">{3}</field>\n",
      "            </doc>\"\"\".format(idField,\"{0}\",blurredField,\"{1}\")\n",
      "\n",
      "\n",
      "    def pushToSolr(self,cutoff):\n",
      "        #TODO create an iterator in the TermDocCollector for this\n",
      "        for i in xrange(0,self.numDocs,self.batchSize): \n",
      "            docs = [self.termDocCollector.getBlurredTerms(j,cutoff)\n",
      "                    for j in xrange(i,min(i+self.batchSize,self.numDocs))]\n",
      "            docStrings = []\n",
      "            for doc in docs:\n",
      "                    docStrings.append(self.docString.format(doc[0],\" \".join(doc[1])))\n",
      "            docStrings = \" \".join(docStrings).encode('ascii','xmlcharrefreplace')\n",
      "\n",
      "            #TODO also needs to be DRYed per the comment above - considr making a lightweight Solr client\n",
      "            params = {'commit': 'true'}\n",
      "            headers = {'content-type': 'application/xml'}\n",
      "            '''\n",
      "            resp = requests.post(self.solrUpdateUrl,\n",
      "                    u\"<add>{0}</add>\".format(docStrings),\n",
      "                    params=params,headers = headers)\n",
      "            if resp.status_code != 200:\n",
      "                raise IOError(\"HTTP Status \" + str(resp.status_code))\n",
      "            '''\n"
     ],
     "language": "python",
     "metadata": {},
     "outputs": [],
     "prompt_number": 4
    },
    {
     "cell_type": "code",
     "collapsed": false,
     "input": [
      "def say(a_list):\n",
      "    print \" \".join(a_list)\n",
      "\n",
      "def main(field,collection,solrUrl):\n",
      "    print \"COLLECTING TERMS\"\n",
      "    stvc = SolrTermVectorCollector(field=field,feature='tf',batchSize=1000)\n",
      "    tdc = TermDocCollection(source=stvc,numTopics=150)\n",
      "\n",
      "    print \"DEMO AUTOGEN SYNONYMS FOR DOCUMENTS\"\n",
      "    print \"\\n**star wars document**\"\n",
      "    say(tdc.getBlurredTerms('20710',0.2)[1])\n",
      "    print \"**harry potter document**\"\n",
      "    say(tdc.getBlurredTerms('17250',0.1)[1])\n",
      "\n",
      "    print \"\\nDEMO TERM SIMILARITY\"\n",
      "    print \"**kirk**\"\n",
      "    say(tdc.getRelatedTerms('kirk',30))\n",
      "    print \"**potter**\"\n",
      "    say(tdc.getRelatedTerms('potter',30))\n",
      "    print \"**vader**\"\n",
      "    say(tdc.getRelatedTerms('vader',30))\n",
      "    print \"**power**\"\n",
      "    say(tdc.getRelatedTerms('power',30))\n",
      "    print \"**frodo**\"\n",
      "    say(tdc.getRelatedTerms('frodo',30))\n",
      "    \n",
      "    print \"\\nSENDING UPDATES TO SOLR\"\n",
      "    #SolrBlurredTermUpdater(tdc,blurredField=\"BodyBlurred\").pushToSolr(0.1)\n",
      "    print \"done\""
     ],
     "language": "python",
     "metadata": {},
     "outputs": [],
     "prompt_number": 5
    },
    {
     "cell_type": "code",
     "collapsed": false,
     "input": [
      "from sys import argv"
     ],
     "language": "python",
     "metadata": {},
     "outputs": [],
     "prompt_number": 6
    },
    {
     "cell_type": "code",
     "collapsed": false,
     "input": [
      "field = 'Body'"
     ],
     "language": "python",
     "metadata": {},
     "outputs": [],
     "prompt_number": 7
    },
    {
     "cell_type": "code",
     "collapsed": false,
     "input": [
      "collection = \"collection1\""
     ],
     "language": "python",
     "metadata": {},
     "outputs": [],
     "prompt_number": 8
    },
    {
     "cell_type": "code",
     "collapsed": false,
     "input": [
      "solrUrl = \"http://localhost:8983/solr\""
     ],
     "language": "python",
     "metadata": {},
     "outputs": [],
     "prompt_number": 9
    },
    {
     "cell_type": "code",
     "collapsed": false,
     "input": [
      "main(field,collection,solrUrl)"
     ],
     "language": "python",
     "metadata": {},
     "outputs": [
      {
       "output_type": "stream",
       "stream": "stdout",
       "text": [
        "COLLECTING TERMS\n",
        "DEMO AUTOGEN SYNONYMS FOR DOCUMENTS"
       ]
      },
      {
       "output_type": "stream",
       "stream": "stdout",
       "text": [
        "\n",
        "\n",
        "**star wars document**\n",
        "call film secret live plan refer matter star person reason rule form side luca doctor read master lord weapon jame son turn blood vader skywalk anakin palpatin darth emperor sidiou black dark design potter hero titl true bby tolkien father apprentic evil sith name eventu tom riddl presid hobbit fantasi maul dooku mace plaguei bane borusa"
       ]
      },
      {
       "output_type": "stream",
       "stream": "stdout",
       "text": [
        "\n",
        "**harry potter document**\n",
        "call head cast help secret live charact state histori ag year cours person side sort weapon jame chapter student dark love wizard hat potter witch room harri studi monei parent slytherin hogwart school rowl phoenix jkr j.k voldemort popul chamber learn ghost main art professor hermion hallow deathli lili snape trace eater appli muggl member nevil quidditch ron hagrid curs siriu lupin goblin\n",
        "\n",
        "DEMO TERM SIMILARITY\n",
        "**kirk**\n",
        "enterpris trek captain command feder offic star vulcan ship episod kirk to crew direct planet origin spock prime starfleet klingon reason time ncc 1701 mirror rank seri refer control movi"
       ]
      },
      {
       "output_type": "stream",
       "stream": "stdout",
       "text": [
        "\n",
        "**potter**\n",
        "harri potter voldemort wizard snape death magic jame love spell time rowl eater lili travel seri hous hand hogwart three wormtail muggl find slytherin kill secret hallow lord deathli order"
       ]
      },
      {
       "output_type": "stream",
       "stream": "stdout",
       "text": [
        "\n",
        "**vader**\n",
        "vader luke emperor darth palpatin anakin sith skywalk sidiou apprentic empir luca side star son forc turn kill death rule suit father question jedi command tarkin obi dark plan wan"
       ]
      },
      {
       "output_type": "stream",
       "stream": "stdout",
       "text": [
        "\n",
        "**power**\n",
        "power ring abil energi mutant superman human magic time forc capabl sauron steam physic control marvel creat demon allow weapon strength earth level requir univers destroi kill limit thing sourc"
       ]
      },
      {
       "output_type": "stream",
       "stream": "stdout",
       "text": [
        "\n",
        "**frodo**\n",
        "ring gandalf frodo hobbit sam head aragorn song king bilbo sauron gollum legola merri battl pippin tell vi sing leav rhyme return elv attack meet ent shire long land fellowship"
       ]
      },
      {
       "output_type": "stream",
       "stream": "stdout",
       "text": [
        "\n",
        "\n",
        "SENDING UPDATES TO SOLR\n",
        "done"
       ]
      },
      {
       "output_type": "stream",
       "stream": "stdout",
       "text": [
        "\n"
       ]
      }
     ],
     "prompt_number": 23
    },
    {
     "cell_type": "code",
     "collapsed": false,
     "input": [
      "stvc = SolrTermVectorCollector(field=field,feature='tf',batchSize=1000)"
     ],
     "language": "python",
     "metadata": {},
     "outputs": [],
     "prompt_number": 24
    },
    {
     "cell_type": "code",
     "collapsed": false,
     "input": [
      "stvc.solrTvrhUrl"
     ],
     "language": "python",
     "metadata": {},
     "outputs": [
      {
       "metadata": {},
       "output_type": "pyout",
       "prompt_number": 25,
       "text": [
        "'http://localhost:8983/solr/collection1/tvrh'"
       ]
      }
     ],
     "prompt_number": 25
    },
    {
     "cell_type": "code",
     "collapsed": false,
     "input": [
      "tdc = TermDocCollection(source=stvc,numTopics=150)"
     ],
     "language": "python",
     "metadata": {},
     "outputs": []
    },
    {
     "cell_type": "code",
     "collapsed": false,
     "input": [
      "len(tdc._termVectors)"
     ],
     "language": "python",
     "metadata": {},
     "outputs": []
    },
    {
     "cell_type": "code",
     "collapsed": false,
     "input": [
      "tdc._termVectors[:2]"
     ],
     "language": "python",
     "metadata": {},
     "outputs": []
    },
    {
     "cell_type": "markdown",
     "metadata": {},
     "source": [
      "term \u5728 matrix \u7684\u7de8\u865f"
     ]
    },
    {
     "cell_type": "code",
     "collapsed": false,
     "input": [
      "tdc._termDict.stringDict.items()[:10]"
     ],
     "language": "python",
     "metadata": {},
     "outputs": []
    },
    {
     "cell_type": "markdown",
     "metadata": {},
     "source": [
      "doc \u5728 matrix \u7684\u7de8\u865f"
     ]
    },
    {
     "cell_type": "code",
     "collapsed": false,
     "input": [
      "tdc._docDict.stringDict.items()[:10]"
     ],
     "language": "python",
     "metadata": {},
     "outputs": []
    },
    {
     "cell_type": "markdown",
     "metadata": {},
     "source": [
      "\u5f97\u5230\u7a00\u758f\u77e9\u9663, 35748 \u500bterm, 18275\u7bc7\u6587\u7ae0"
     ]
    },
    {
     "cell_type": "code",
     "collapsed": false,
     "input": [
      "tdc._getCscMatrix()"
     ],
     "language": "python",
     "metadata": {},
     "outputs": []
    },
    {
     "cell_type": "markdown",
     "metadata": {},
     "source": [
      "svd\u5206\u89e3"
     ]
    },
    {
     "cell_type": "code",
     "collapsed": false,
     "input": [
      "U, S, V = tdc._getSvd()"
     ],
     "language": "python",
     "metadata": {},
     "outputs": []
    },
    {
     "cell_type": "markdown",
     "metadata": {},
     "source": [
      "term , topic matrix"
     ]
    },
    {
     "cell_type": "code",
     "collapsed": false,
     "input": [
      "U.shape"
     ],
     "language": "python",
     "metadata": {},
     "outputs": []
    },
    {
     "cell_type": "markdown",
     "metadata": {},
     "source": [
      "weight matrix"
     ]
    },
    {
     "cell_type": "code",
     "collapsed": false,
     "input": [
      "S.shape"
     ],
     "language": "python",
     "metadata": {},
     "outputs": []
    },
    {
     "cell_type": "markdown",
     "metadata": {},
     "source": [
      "doc, topic matrix"
     ]
    },
    {
     "cell_type": "code",
     "collapsed": false,
     "input": [
      "V.shape"
     ],
     "language": "python",
     "metadata": {},
     "outputs": []
    },
    {
     "cell_type": "markdown",
     "metadata": {},
     "source": [
      "\u5f97\u5230 U'"
     ]
    },
    {
     "cell_type": "code",
     "collapsed": false,
     "input": [
      "tdc._getUprime().shape"
     ],
     "language": "python",
     "metadata": {},
     "outputs": []
    },
    {
     "cell_type": "code",
     "collapsed": false,
     "input": [
      "tdc._getUprime()[:10]"
     ],
     "language": "python",
     "metadata": {},
     "outputs": []
    },
    {
     "cell_type": "markdown",
     "metadata": {},
     "source": [
      "\u5f97\u5230\u7b2c 20710\u7bc7\u6587\u7ae0 topic \u76f8\u95dc\u7684 term"
     ]
    },
    {
     "cell_type": "code",
     "collapsed": false,
     "input": [
      "tdc.getBlurredTerms('20710',0.2)[1][:5]"
     ],
     "language": "python",
     "metadata": {},
     "outputs": []
    },
    {
     "cell_type": "markdown",
     "metadata": {},
     "source": [
      "\u6d41\u7a0b\u89e3\u91cb"
     ]
    },
    {
     "cell_type": "code",
     "collapsed": false,
     "input": [
      "blurredField = numpy.dot(tdc._getUprime(), tdc._getSvd()[2][:,tdc._docDict['20710']])"
     ],
     "language": "python",
     "metadata": {},
     "outputs": []
    },
    {
     "cell_type": "code",
     "collapsed": false,
     "input": [
      "blurredField.shape"
     ],
     "language": "python",
     "metadata": {},
     "outputs": []
    },
    {
     "cell_type": "code",
     "collapsed": false,
     "input": [
      "blurredField"
     ],
     "language": "python",
     "metadata": {},
     "outputs": []
    },
    {
     "cell_type": "code",
     "collapsed": false,
     "input": [
      "tokenIds = numpy.where(blurredField > 0.2)[0]"
     ],
     "language": "python",
     "metadata": {},
     "outputs": []
    },
    {
     "cell_type": "code",
     "collapsed": false,
     "input": [
      "tokenIds"
     ],
     "language": "python",
     "metadata": {},
     "outputs": []
    },
    {
     "cell_type": "code",
     "collapsed": false,
     "input": [
      "tokens = [tdc._termDict[id] for id in tokenIds]"
     ],
     "language": "python",
     "metadata": {},
     "outputs": []
    },
    {
     "cell_type": "code",
     "collapsed": false,
     "input": [
      "tokens[:20]"
     ],
     "language": "python",
     "metadata": {},
     "outputs": []
    },
    {
     "cell_type": "markdown",
     "metadata": {},
     "source": [
      "\u5f97\u5230\u8207 'potter' \u76f8\u95dc\u7684\u5b57"
     ]
    },
    {
     "cell_type": "code",
     "collapsed": false,
     "input": [
      "tdc.getRelatedTerms('potter',20)"
     ],
     "language": "python",
     "metadata": {},
     "outputs": []
    },
    {
     "cell_type": "markdown",
     "metadata": {},
     "source": [
      "\u6d41\u7a0b\u89e3\u91cb"
     ]
    },
    {
     "cell_type": "code",
     "collapsed": false,
     "input": [
      "uP = tdc._getUprime()\n",
      "termDict = tdc._termDict\n",
      "u,_,_ = tdc._getSvd()\n"
     ],
     "language": "python",
     "metadata": {},
     "outputs": []
    },
    {
     "cell_type": "code",
     "collapsed": false,
     "input": [
      "strength_and_indices = sorted( zip(numpy.dot(uP[termDict[token]],u),range(len(uP))) , reverse=True )"
     ],
     "language": "python",
     "metadata": {},
     "outputs": []
    },
    {
     "cell_type": "code",
     "collapsed": false,
     "input": [
      "termDict['potter']"
     ],
     "language": "python",
     "metadata": {},
     "outputs": []
    },
    {
     "cell_type": "code",
     "collapsed": false,
     "input": [
      "uP.shape"
     ],
     "language": "python",
     "metadata": {},
     "outputs": []
    },
    {
     "cell_type": "code",
     "collapsed": false,
     "input": [
      "u.shape"
     ],
     "language": "python",
     "metadata": {},
     "outputs": []
    },
    {
     "cell_type": "code",
     "collapsed": false,
     "input": [
      "numpy.dot(uP[termDict['potter']],u).shape"
     ],
     "language": "python",
     "metadata": {},
     "outputs": []
    },
    {
     "cell_type": "code",
     "collapsed": false,
     "input": [
      "strength_and_indices = sorted(zip(numpy.dot(uP[termDict['potter']],u),range(len(uP))), reverse=True )"
     ],
     "language": "python",
     "metadata": {},
     "outputs": []
    },
    {
     "cell_type": "code",
     "collapsed": false,
     "input": [
      "strength_and_indices[:10]"
     ],
     "language": "python",
     "metadata": {},
     "outputs": []
    },
    {
     "cell_type": "code",
     "collapsed": false,
     "input": [
      "method = lambda i: termDict[i[1]]"
     ],
     "language": "python",
     "metadata": {},
     "outputs": []
    },
    {
     "cell_type": "code",
     "collapsed": false,
     "input": [
      "[ method(i) for i in strength_and_indices[:5] ]"
     ],
     "language": "python",
     "metadata": {},
     "outputs": []
    },
    {
     "cell_type": "code",
     "collapsed": false,
     "input": [
      "strength_and_indices[:5] "
     ],
     "language": "python",
     "metadata": {},
     "outputs": []
    },
    {
     "cell_type": "code",
     "collapsed": false,
     "input": [],
     "language": "python",
     "metadata": {},
     "outputs": []
    },
    {
     "cell_type": "code",
     "collapsed": false,
     "input": [],
     "language": "python",
     "metadata": {},
     "outputs": []
    },
    {
     "cell_type": "code",
     "collapsed": false,
     "input": [],
     "language": "python",
     "metadata": {},
     "outputs": []
    }
   ],
   "metadata": {}
  }
 ]
}